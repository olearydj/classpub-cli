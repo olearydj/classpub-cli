{
 "cells": [
  {
   "cell_type": "code",
   "execution_count": 2,
   "id": "ad594343",
   "metadata": {},
   "outputs": [
    {
     "name": "stdout",
     "output_type": "stream",
     "text": [
      "hello\n"
     ]
    }
   ],
   "source": [
    "print(\"hello\")\n"
   ]
  }
 ],
 "metadata": {},
 "nbformat": 4,
 "nbformat_minor": 5
}